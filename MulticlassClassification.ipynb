{
 "cells": [
  {
   "cell_type": "code",
   "execution_count": 1,
   "metadata": {},
   "outputs": [],
   "source": [
    "import tensorflow as tf \n",
    "import numpy as np \n",
    "import matplotlib.pyplot as plt "
   ]
  },
  {
   "cell_type": "code",
   "execution_count": 2,
   "metadata": {},
   "outputs": [],
   "source": [
    "from sklearn.datasets import load_iris \n",
    "\n",
    "iris = load_iris()\n",
    "y = iris.target  # three class to be classified\n",
    "x = iris.data    # four features vector as input\n",
    "\n",
    "\n",
    "from sklearn.model_selection import train_test_split\n",
    "x_train,x_test,y_train,y_test = train_test_split(x,y, test_size=0.2, random_state=42)"
   ]
  },
  {
   "cell_type": "code",
   "execution_count": 3,
   "metadata": {},
   "outputs": [
    {
     "name": "stdout",
     "output_type": "stream",
     "text": [
      "Epoch 1/100\n",
      "3/3 [==============================] - 1s 65ms/step - loss: 1.1936 - accuracy: 0.3542 - val_loss: 1.2088 - val_accuracy: 0.2917\n",
      "Epoch 2/100\n",
      "3/3 [==============================] - 0s 11ms/step - loss: 1.1143 - accuracy: 0.3542 - val_loss: 1.1186 - val_accuracy: 0.2917\n",
      "Epoch 3/100\n",
      "3/3 [==============================] - 0s 12ms/step - loss: 1.0707 - accuracy: 0.3542 - val_loss: 1.0748 - val_accuracy: 0.2917\n",
      "Epoch 4/100\n",
      "3/3 [==============================] - 0s 9ms/step - loss: 1.0491 - accuracy: 0.3542 - val_loss: 1.0534 - val_accuracy: 0.2917\n",
      "Epoch 5/100\n",
      "3/3 [==============================] - 0s 10ms/step - loss: 1.0326 - accuracy: 0.3542 - val_loss: 1.0245 - val_accuracy: 0.2917\n",
      "Epoch 6/100\n",
      "3/3 [==============================] - 0s 10ms/step - loss: 1.0221 - accuracy: 0.3542 - val_loss: 1.0142 - val_accuracy: 0.2917\n",
      "Epoch 7/100\n",
      "3/3 [==============================] - 0s 10ms/step - loss: 1.0122 - accuracy: 0.3542 - val_loss: 0.9922 - val_accuracy: 0.2917\n",
      "Epoch 8/100\n",
      "3/3 [==============================] - 0s 10ms/step - loss: 1.0012 - accuracy: 0.3542 - val_loss: 0.9766 - val_accuracy: 0.2917\n",
      "Epoch 9/100\n",
      "3/3 [==============================] - 0s 10ms/step - loss: 0.9890 - accuracy: 0.3542 - val_loss: 0.9748 - val_accuracy: 0.2917\n",
      "Epoch 10/100\n",
      "3/3 [==============================] - 0s 11ms/step - loss: 0.9801 - accuracy: 0.3542 - val_loss: 0.9738 - val_accuracy: 0.2917\n",
      "Epoch 11/100\n",
      "3/3 [==============================] - 0s 10ms/step - loss: 0.9733 - accuracy: 0.3542 - val_loss: 0.9545 - val_accuracy: 0.2917\n",
      "Epoch 12/100\n",
      "3/3 [==============================] - 0s 11ms/step - loss: 0.9707 - accuracy: 0.3646 - val_loss: 0.9445 - val_accuracy: 0.2917\n",
      "Epoch 13/100\n",
      "3/3 [==============================] - 0s 10ms/step - loss: 0.9558 - accuracy: 0.3646 - val_loss: 0.9435 - val_accuracy: 0.2917\n",
      "Epoch 14/100\n",
      "3/3 [==============================] - 0s 12ms/step - loss: 0.9535 - accuracy: 0.3542 - val_loss: 0.9290 - val_accuracy: 0.2917\n",
      "Epoch 15/100\n",
      "3/3 [==============================] - 0s 10ms/step - loss: 0.9474 - accuracy: 0.3750 - val_loss: 0.9283 - val_accuracy: 0.2917\n",
      "Epoch 16/100\n",
      "3/3 [==============================] - 0s 12ms/step - loss: 0.9339 - accuracy: 0.3542 - val_loss: 0.9129 - val_accuracy: 0.2917\n",
      "Epoch 17/100\n",
      "3/3 [==============================] - 0s 11ms/step - loss: 0.9304 - accuracy: 0.4896 - val_loss: 0.9124 - val_accuracy: 0.2917\n",
      "Epoch 18/100\n",
      "3/3 [==============================] - 0s 11ms/step - loss: 0.9153 - accuracy: 0.5208 - val_loss: 0.9059 - val_accuracy: 0.4167\n",
      "Epoch 19/100\n",
      "3/3 [==============================] - 0s 11ms/step - loss: 0.9094 - accuracy: 0.6458 - val_loss: 0.9043 - val_accuracy: 0.4167\n",
      "Epoch 20/100\n",
      "3/3 [==============================] - 0s 10ms/step - loss: 0.9002 - accuracy: 0.6458 - val_loss: 0.8823 - val_accuracy: 0.5000\n",
      "Epoch 21/100\n",
      "3/3 [==============================] - 0s 10ms/step - loss: 0.8875 - accuracy: 0.7083 - val_loss: 0.8725 - val_accuracy: 0.5417\n",
      "Epoch 22/100\n",
      "3/3 [==============================] - 0s 11ms/step - loss: 0.8808 - accuracy: 0.7292 - val_loss: 0.8677 - val_accuracy: 0.4583\n",
      "Epoch 23/100\n",
      "3/3 [==============================] - 0s 14ms/step - loss: 0.8776 - accuracy: 0.7083 - val_loss: 0.8514 - val_accuracy: 0.6250\n",
      "Epoch 24/100\n",
      "3/3 [==============================] - 0s 16ms/step - loss: 0.8664 - accuracy: 0.7604 - val_loss: 0.8459 - val_accuracy: 0.6250\n",
      "Epoch 25/100\n",
      "3/3 [==============================] - 0s 14ms/step - loss: 0.8662 - accuracy: 0.7083 - val_loss: 0.8333 - val_accuracy: 0.6667\n",
      "Epoch 26/100\n",
      "3/3 [==============================] - 0s 10ms/step - loss: 0.8513 - accuracy: 0.7917 - val_loss: 0.8277 - val_accuracy: 0.6667\n",
      "Epoch 27/100\n",
      "3/3 [==============================] - 0s 10ms/step - loss: 0.8418 - accuracy: 0.7500 - val_loss: 0.8159 - val_accuracy: 0.6667\n",
      "Epoch 28/100\n",
      "3/3 [==============================] - 0s 10ms/step - loss: 0.8455 - accuracy: 0.7500 - val_loss: 0.8069 - val_accuracy: 0.7500\n",
      "Epoch 29/100\n",
      "3/3 [==============================] - 0s 11ms/step - loss: 0.8260 - accuracy: 0.8229 - val_loss: 0.8051 - val_accuracy: 0.6667\n",
      "Epoch 30/100\n",
      "3/3 [==============================] - 0s 12ms/step - loss: 0.8191 - accuracy: 0.7708 - val_loss: 0.7948 - val_accuracy: 0.6667\n",
      "Epoch 31/100\n",
      "3/3 [==============================] - 0s 11ms/step - loss: 0.8098 - accuracy: 0.8125 - val_loss: 0.7920 - val_accuracy: 0.6667\n",
      "Epoch 32/100\n",
      "3/3 [==============================] - 0s 11ms/step - loss: 0.8039 - accuracy: 0.8333 - val_loss: 0.7887 - val_accuracy: 0.6667\n",
      "Epoch 33/100\n",
      "3/3 [==============================] - 0s 11ms/step - loss: 0.7930 - accuracy: 0.7812 - val_loss: 0.7582 - val_accuracy: 0.8333\n",
      "Epoch 34/100\n",
      "3/3 [==============================] - 0s 12ms/step - loss: 0.7826 - accuracy: 0.8750 - val_loss: 0.7602 - val_accuracy: 0.7083\n",
      "Epoch 35/100\n",
      "3/3 [==============================] - 0s 11ms/step - loss: 0.7755 - accuracy: 0.8646 - val_loss: 0.7491 - val_accuracy: 0.7500\n",
      "Epoch 36/100\n",
      "3/3 [==============================] - 0s 12ms/step - loss: 0.7679 - accuracy: 0.8542 - val_loss: 0.7502 - val_accuracy: 0.6667\n",
      "Epoch 37/100\n",
      "3/3 [==============================] - 0s 10ms/step - loss: 0.7577 - accuracy: 0.8542 - val_loss: 0.7452 - val_accuracy: 0.6667\n",
      "Epoch 38/100\n",
      "3/3 [==============================] - 0s 10ms/step - loss: 0.7565 - accuracy: 0.7500 - val_loss: 0.7150 - val_accuracy: 0.8333\n",
      "Epoch 39/100\n",
      "3/3 [==============================] - 0s 10ms/step - loss: 0.7340 - accuracy: 0.9062 - val_loss: 0.7150 - val_accuracy: 0.7083\n",
      "Epoch 40/100\n",
      "3/3 [==============================] - 0s 11ms/step - loss: 0.7274 - accuracy: 0.8229 - val_loss: 0.6881 - val_accuracy: 0.9583\n",
      "Epoch 41/100\n",
      "3/3 [==============================] - 0s 10ms/step - loss: 0.7184 - accuracy: 0.8646 - val_loss: 0.6790 - val_accuracy: 0.9583\n",
      "Epoch 42/100\n",
      "3/3 [==============================] - 0s 12ms/step - loss: 0.7033 - accuracy: 0.8438 - val_loss: 0.6595 - val_accuracy: 0.9583\n",
      "Epoch 43/100\n",
      "3/3 [==============================] - 0s 15ms/step - loss: 0.6926 - accuracy: 0.9062 - val_loss: 0.6525 - val_accuracy: 0.9583\n",
      "Epoch 44/100\n",
      "3/3 [==============================] - 0s 12ms/step - loss: 0.6802 - accuracy: 0.9479 - val_loss: 0.6614 - val_accuracy: 0.8333\n",
      "Epoch 45/100\n",
      "3/3 [==============================] - 0s 10ms/step - loss: 0.6669 - accuracy: 0.9062 - val_loss: 0.6508 - val_accuracy: 0.8333\n",
      "Epoch 46/100\n",
      "3/3 [==============================] - 0s 11ms/step - loss: 0.6553 - accuracy: 0.8854 - val_loss: 0.6215 - val_accuracy: 0.9583\n",
      "Epoch 47/100\n",
      "3/3 [==============================] - 0s 10ms/step - loss: 0.6434 - accuracy: 0.9167 - val_loss: 0.6150 - val_accuracy: 0.9583\n",
      "Epoch 48/100\n",
      "3/3 [==============================] - 0s 12ms/step - loss: 0.6298 - accuracy: 0.9479 - val_loss: 0.5990 - val_accuracy: 0.9583\n",
      "Epoch 49/100\n",
      "3/3 [==============================] - 0s 11ms/step - loss: 0.6185 - accuracy: 0.9062 - val_loss: 0.5976 - val_accuracy: 0.9583\n",
      "Epoch 50/100\n",
      "3/3 [==============================] - 0s 11ms/step - loss: 0.6070 - accuracy: 0.9375 - val_loss: 0.6043 - val_accuracy: 0.8750\n",
      "Epoch 51/100\n",
      "3/3 [==============================] - 0s 11ms/step - loss: 0.5904 - accuracy: 0.9375 - val_loss: 0.5723 - val_accuracy: 0.9583\n",
      "Epoch 52/100\n",
      "3/3 [==============================] - 0s 11ms/step - loss: 0.5768 - accuracy: 0.9375 - val_loss: 0.5494 - val_accuracy: 0.9583\n",
      "Epoch 53/100\n",
      "3/3 [==============================] - 0s 12ms/step - loss: 0.5697 - accuracy: 0.9271 - val_loss: 0.5585 - val_accuracy: 0.9583\n",
      "Epoch 54/100\n",
      "3/3 [==============================] - 0s 10ms/step - loss: 0.5553 - accuracy: 0.9167 - val_loss: 0.5251 - val_accuracy: 0.9583\n",
      "Epoch 55/100\n",
      "3/3 [==============================] - 0s 12ms/step - loss: 0.5383 - accuracy: 0.9688 - val_loss: 0.5522 - val_accuracy: 0.9167\n",
      "Epoch 56/100\n",
      "3/3 [==============================] - 0s 11ms/step - loss: 0.5279 - accuracy: 0.9167 - val_loss: 0.5152 - val_accuracy: 0.9583\n",
      "Epoch 57/100\n",
      "3/3 [==============================] - 0s 12ms/step - loss: 0.5129 - accuracy: 0.9583 - val_loss: 0.4858 - val_accuracy: 1.0000\n",
      "Epoch 58/100\n",
      "3/3 [==============================] - 0s 11ms/step - loss: 0.5019 - accuracy: 0.9583 - val_loss: 0.5094 - val_accuracy: 0.9583\n",
      "Epoch 59/100\n",
      "3/3 [==============================] - 0s 14ms/step - loss: 0.4842 - accuracy: 0.9688 - val_loss: 0.4893 - val_accuracy: 0.9583\n",
      "Epoch 60/100\n",
      "3/3 [==============================] - 0s 18ms/step - loss: 0.4745 - accuracy: 0.9167 - val_loss: 0.4513 - val_accuracy: 1.0000\n",
      "Epoch 61/100\n",
      "3/3 [==============================] - 0s 13ms/step - loss: 0.4603 - accuracy: 0.9583 - val_loss: 0.4339 - val_accuracy: 1.0000\n",
      "Epoch 62/100\n",
      "3/3 [==============================] - 0s 16ms/step - loss: 0.4475 - accuracy: 0.9479 - val_loss: 0.4165 - val_accuracy: 1.0000\n",
      "Epoch 63/100\n",
      "3/3 [==============================] - 0s 14ms/step - loss: 0.4329 - accuracy: 0.9583 - val_loss: 0.4136 - val_accuracy: 1.0000\n",
      "Epoch 64/100\n",
      "3/3 [==============================] - 0s 12ms/step - loss: 0.4170 - accuracy: 0.9792 - val_loss: 0.4249 - val_accuracy: 0.9583\n",
      "Epoch 65/100\n",
      "3/3 [==============================] - 0s 11ms/step - loss: 0.4217 - accuracy: 0.9375 - val_loss: 0.4298 - val_accuracy: 0.9583\n",
      "Epoch 66/100\n",
      "3/3 [==============================] - 0s 14ms/step - loss: 0.3981 - accuracy: 0.9583 - val_loss: 0.4207 - val_accuracy: 0.9583\n",
      "Epoch 67/100\n",
      "3/3 [==============================] - 0s 14ms/step - loss: 0.3963 - accuracy: 0.9583 - val_loss: 0.3765 - val_accuracy: 1.0000\n",
      "Epoch 68/100\n",
      "3/3 [==============================] - 0s 10ms/step - loss: 0.3784 - accuracy: 0.9688 - val_loss: 0.3620 - val_accuracy: 1.0000\n",
      "Epoch 69/100\n",
      "3/3 [==============================] - 0s 11ms/step - loss: 0.3666 - accuracy: 0.9688 - val_loss: 0.3799 - val_accuracy: 0.9583\n",
      "Epoch 70/100\n",
      "3/3 [==============================] - 0s 11ms/step - loss: 0.3564 - accuracy: 0.9479 - val_loss: 0.3545 - val_accuracy: 0.9583\n",
      "Epoch 71/100\n",
      "3/3 [==============================] - 0s 13ms/step - loss: 0.3525 - accuracy: 0.9688 - val_loss: 0.4299 - val_accuracy: 0.8750\n",
      "Epoch 72/100\n",
      "3/3 [==============================] - 0s 11ms/step - loss: 0.3527 - accuracy: 0.9167 - val_loss: 0.3346 - val_accuracy: 1.0000\n",
      "Epoch 73/100\n",
      "3/3 [==============================] - 0s 12ms/step - loss: 0.3310 - accuracy: 0.9688 - val_loss: 0.3258 - val_accuracy: 1.0000\n",
      "Epoch 74/100\n",
      "3/3 [==============================] - 0s 12ms/step - loss: 0.3228 - accuracy: 0.9583 - val_loss: 0.3205 - val_accuracy: 0.9583\n",
      "Epoch 75/100\n",
      "3/3 [==============================] - 0s 12ms/step - loss: 0.3127 - accuracy: 0.9688 - val_loss: 0.3135 - val_accuracy: 0.9583\n",
      "Epoch 76/100\n",
      "3/3 [==============================] - 0s 13ms/step - loss: 0.3048 - accuracy: 0.9688 - val_loss: 0.3497 - val_accuracy: 0.9583\n",
      "Epoch 77/100\n",
      "3/3 [==============================] - 0s 12ms/step - loss: 0.3095 - accuracy: 0.9688 - val_loss: 0.3128 - val_accuracy: 0.9583\n",
      "Epoch 78/100\n",
      "3/3 [==============================] - 0s 10ms/step - loss: 0.2888 - accuracy: 0.9688 - val_loss: 0.3071 - val_accuracy: 0.9583\n",
      "Epoch 79/100\n",
      "3/3 [==============================] - 0s 13ms/step - loss: 0.2796 - accuracy: 0.9583 - val_loss: 0.2631 - val_accuracy: 1.0000\n",
      "Epoch 80/100\n",
      "3/3 [==============================] - 0s 12ms/step - loss: 0.2779 - accuracy: 0.9479 - val_loss: 0.2698 - val_accuracy: 1.0000\n",
      "Epoch 81/100\n",
      "3/3 [==============================] - 0s 12ms/step - loss: 0.2644 - accuracy: 0.9688 - val_loss: 0.2651 - val_accuracy: 0.9583\n",
      "Epoch 82/100\n",
      "3/3 [==============================] - 0s 12ms/step - loss: 0.2588 - accuracy: 0.9688 - val_loss: 0.3118 - val_accuracy: 0.9583\n",
      "Epoch 83/100\n",
      "3/3 [==============================] - 0s 11ms/step - loss: 0.2529 - accuracy: 0.9479 - val_loss: 0.2640 - val_accuracy: 0.9583\n",
      "Epoch 84/100\n",
      "3/3 [==============================] - 0s 10ms/step - loss: 0.2443 - accuracy: 0.9688 - val_loss: 0.2281 - val_accuracy: 1.0000\n",
      "Epoch 85/100\n",
      "3/3 [==============================] - 0s 11ms/step - loss: 0.2368 - accuracy: 0.9792 - val_loss: 0.2795 - val_accuracy: 0.9583\n",
      "Epoch 86/100\n",
      "3/3 [==============================] - 0s 12ms/step - loss: 0.2483 - accuracy: 0.9167 - val_loss: 0.2088 - val_accuracy: 1.0000\n",
      "Epoch 87/100\n",
      "3/3 [==============================] - 0s 11ms/step - loss: 0.2318 - accuracy: 0.9583 - val_loss: 0.2061 - val_accuracy: 1.0000\n",
      "Epoch 88/100\n",
      "3/3 [==============================] - 0s 13ms/step - loss: 0.2216 - accuracy: 0.9792 - val_loss: 0.1924 - val_accuracy: 1.0000\n",
      "Epoch 89/100\n",
      "3/3 [==============================] - 0s 11ms/step - loss: 0.2178 - accuracy: 0.9688 - val_loss: 0.2623 - val_accuracy: 0.9583\n",
      "Epoch 90/100\n",
      "3/3 [==============================] - 0s 14ms/step - loss: 0.2126 - accuracy: 0.9479 - val_loss: 0.1743 - val_accuracy: 1.0000\n",
      "Epoch 91/100\n",
      "3/3 [==============================] - 0s 13ms/step - loss: 0.2126 - accuracy: 0.9688 - val_loss: 0.1808 - val_accuracy: 1.0000\n",
      "Epoch 92/100\n",
      "3/3 [==============================] - 0s 16ms/step - loss: 0.2152 - accuracy: 0.9479 - val_loss: 0.1727 - val_accuracy: 1.0000\n",
      "Epoch 93/100\n",
      "3/3 [==============================] - 0s 14ms/step - loss: 0.2176 - accuracy: 0.9583 - val_loss: 0.1805 - val_accuracy: 1.0000\n",
      "Epoch 94/100\n",
      "3/3 [==============================] - 0s 11ms/step - loss: 0.1978 - accuracy: 0.9792 - val_loss: 0.1645 - val_accuracy: 1.0000\n",
      "Epoch 95/100\n",
      "3/3 [==============================] - 0s 11ms/step - loss: 0.1935 - accuracy: 0.9688 - val_loss: 0.1657 - val_accuracy: 1.0000\n",
      "Epoch 96/100\n",
      "3/3 [==============================] - 0s 14ms/step - loss: 0.2033 - accuracy: 0.9583 - val_loss: 0.1952 - val_accuracy: 0.9583\n",
      "Epoch 97/100\n",
      "3/3 [==============================] - 0s 12ms/step - loss: 0.1843 - accuracy: 0.9583 - val_loss: 0.1511 - val_accuracy: 1.0000\n",
      "Epoch 98/100\n",
      "3/3 [==============================] - 0s 14ms/step - loss: 0.1889 - accuracy: 0.9583 - val_loss: 0.1886 - val_accuracy: 0.9583\n",
      "Epoch 99/100\n",
      "3/3 [==============================] - 0s 15ms/step - loss: 0.1836 - accuracy: 0.9583 - val_loss: 0.1423 - val_accuracy: 1.0000\n",
      "Epoch 100/100\n",
      "3/3 [==============================] - 0s 11ms/step - loss: 0.1853 - accuracy: 0.9479 - val_loss: 0.1402 - val_accuracy: 1.0000\n"
     ]
    }
   ],
   "source": [
    "model = tf.keras.Sequential()\n",
    "\n",
    "model.add(tf.keras.layers.Dense(units = 32, activation ='relu', input_shape =(4,)))\n",
    "model.add(tf.keras.layers.Dense(units = 16, activation ='relu'))\n",
    "model.add(tf.keras.layers.Dense(units = 8,  activation ='relu'))\n",
    "model.add(tf.keras.layers.Dense(units = 4,  activation ='relu'))\n",
    "model.add(tf.keras.layers.Dense(units = 3,  activation ='softmax'))\n",
    "\n",
    "\n",
    "model.compile(  loss = tf.keras.losses.SparseCategoricalCrossentropy(),\n",
    "                optimizer = tf.keras.optimizers.RMSprop(),\n",
    "                metrics = ['accuracy']\n",
    "                )\n",
    "\n",
    "\n",
    "history = model.fit(x_train, y_train, epochs =100, validation_split=0.2)\n",
    "\n"
   ]
  },
  {
   "cell_type": "code",
   "execution_count": 4,
   "metadata": {},
   "outputs": [
    {
     "data": {
      "image/png": "[encoded data removed]",
      "text/plain": [
       "<Figure size 432x288 with 1 Axes>"
      ]
     },
     "metadata": {
      "needs_background": "light"
     },
     "output_type": "display_data"
    }
   ],
   "source": [
    "plt.plot(history.history['loss'], label='loss')\n",
    "plt.plot(history.history['val_loss'], label='val_loss')\n",
    "plt.xlabel('Epoch')\n",
    "plt.ylabel('Error')\n",
    "plt.legend()\n",
    "plt.show() "
   ]
  },
  {
   "cell_type": "code",
   "execution_count": 5,
   "metadata": {},
   "outputs": [
    {
     "name": "stdout",
     "output_type": "stream",
     "text": [
      "Test loss: 0.17240901291370392\n",
      "Test accuracy: 0.9666666388511658\n"
     ]
    }
   ],
   "source": [
    "loss, accuracy = model.evaluate(x_test, y_test, verbose=0)\n",
    "print('Test loss:', loss)\n",
    "print('Test accuracy:', accuracy)"
   ]
  },
  {
   "cell_type": "code",
   "execution_count": 6,
   "metadata": {},
   "outputs": [
    {
     "name": "stdout",
     "output_type": "stream",
     "text": [
      "1/1 [==============================] - 0s 78ms/step\n"
     ]
    },
    {
     "data": {
      "text/plain": [
       "0.9666666666666667"
      ]
     },
     "execution_count": 6,
     "metadata": {},
     "output_type": "execute_result"
    }
   ],
   "source": [
    "(np.argmax(model.predict(x_test), axis =1) == y_test).mean()"
   ]
  },
  {
   "cell_type": "code",
   "execution_count": 7,
   "metadata": {},
   "outputs": [
    {
     "data": {
      "image/png": "[encoded data removed]",
      "text/plain": [
       "<Figure size 1080x288 with 10 Axes>"
      ]
     },
     "metadata": {},
     "output_type": "display_data"
    }
   ],
   "source": [
    "(x_train, y_train),(x_test,y_test) = tf.keras.datasets.mnist.load_data()\n",
    "\n",
    "plt.figure(figsize=(15,4))\n",
    "\n",
    "for i in range(10):\n",
    "    plt.subplot(2,5, i+1)\n",
    "    plt.imshow(x_train[i])\n",
    "    plt.xticks([])\n",
    "    plt.yticks([])\n",
    "    plt.xlabel(y_train[i])\n",
    "\n",
    "\n",
    "x_train = x_train/255.0\n",
    "x_test = x_test/255.0"
   ]
  },
  {
   "cell_type": "code",
   "execution_count": 8,
   "metadata": {},
   "outputs": [],
   "source": [
    "# let's train only 20000 data\n",
    "x_train = x_train[0:20000]\n",
    "y_train = y_train[0:20000]\n",
    "\n",
    "\n",
    "# reducing test to 5000\n",
    "x_test = x_test[0:5000]\n",
    "y_test = y_test[0:5000]"
   ]
  },
  {
   "cell_type": "code",
   "execution_count": 9,
   "metadata": {},
   "outputs": [
    {
     "name": "stdout",
     "output_type": "stream",
     "text": [
      "Epoch 1/50\n",
      "438/438 [==============================] - 1s 2ms/step - loss: 0.9736 - accuracy: 0.6926 - val_loss: 0.3468 - val_accuracy: 0.8997\n",
      "Epoch 2/50\n",
      "438/438 [==============================] - 1s 2ms/step - loss: 0.3882 - accuracy: 0.8907 - val_loss: 0.2371 - val_accuracy: 0.9275\n",
      "Epoch 3/50\n",
      "438/438 [==============================] - 1s 2ms/step - loss: 0.2846 - accuracy: 0.9209 - val_loss: 0.1952 - val_accuracy: 0.9418\n",
      "Epoch 4/50\n",
      "438/438 [==============================] - 1s 2ms/step - loss: 0.2241 - accuracy: 0.9388 - val_loss: 0.1829 - val_accuracy: 0.9480\n",
      "Epoch 5/50\n",
      "438/438 [==============================] - 1s 2ms/step - loss: 0.1929 - accuracy: 0.9481 - val_loss: 0.1728 - val_accuracy: 0.9510\n",
      "Epoch 6/50\n",
      "438/438 [==============================] - 1s 2ms/step - loss: 0.1698 - accuracy: 0.9542 - val_loss: 0.1545 - val_accuracy: 0.9588\n",
      "Epoch 7/50\n",
      "438/438 [==============================] - 1s 2ms/step - loss: 0.1388 - accuracy: 0.9619 - val_loss: 0.1637 - val_accuracy: 0.9528\n",
      "Epoch 8/50\n",
      "438/438 [==============================] - 1s 2ms/step - loss: 0.1276 - accuracy: 0.9622 - val_loss: 0.1648 - val_accuracy: 0.9582\n",
      "Epoch 9/50\n",
      "438/438 [==============================] - 1s 2ms/step - loss: 0.1157 - accuracy: 0.9669 - val_loss: 0.1569 - val_accuracy: 0.9600\n",
      "Epoch 10/50\n",
      "438/438 [==============================] - 1s 2ms/step - loss: 0.1077 - accuracy: 0.9694 - val_loss: 0.1417 - val_accuracy: 0.9623\n",
      "Epoch 11/50\n",
      "438/438 [==============================] - 1s 2ms/step - loss: 0.0930 - accuracy: 0.9726 - val_loss: 0.1616 - val_accuracy: 0.9612\n",
      "Epoch 12/50\n",
      "438/438 [==============================] - 1s 2ms/step - loss: 0.0975 - accuracy: 0.9712 - val_loss: 0.1752 - val_accuracy: 0.9583\n",
      "Epoch 13/50\n",
      "438/438 [==============================] - 1s 2ms/step - loss: 0.0915 - accuracy: 0.9726 - val_loss: 0.1632 - val_accuracy: 0.9608\n",
      "Epoch 14/50\n",
      "438/438 [==============================] - 1s 2ms/step - loss: 0.0891 - accuracy: 0.9751 - val_loss: 0.1708 - val_accuracy: 0.9620\n",
      "Epoch 15/50\n",
      "438/438 [==============================] - 1s 2ms/step - loss: 0.0733 - accuracy: 0.9793 - val_loss: 0.1693 - val_accuracy: 0.9613\n",
      "Epoch 16/50\n",
      "438/438 [==============================] - 1s 2ms/step - loss: 0.0728 - accuracy: 0.9790 - val_loss: 0.1662 - val_accuracy: 0.9637\n",
      "Epoch 17/50\n",
      "438/438 [==============================] - 1s 2ms/step - loss: 0.0717 - accuracy: 0.9794 - val_loss: 0.1622 - val_accuracy: 0.9645\n",
      "Epoch 18/50\n",
      "438/438 [==============================] - 1s 2ms/step - loss: 0.0658 - accuracy: 0.9813 - val_loss: 0.1731 - val_accuracy: 0.9638\n",
      "Epoch 19/50\n",
      "438/438 [==============================] - 1s 2ms/step - loss: 0.0568 - accuracy: 0.9826 - val_loss: 0.1892 - val_accuracy: 0.9623\n",
      "Epoch 20/50\n",
      "438/438 [==============================] - 1s 2ms/step - loss: 0.0606 - accuracy: 0.9828 - val_loss: 0.1720 - val_accuracy: 0.9648\n",
      "Epoch 21/50\n",
      "438/438 [==============================] - 1s 2ms/step - loss: 0.0646 - accuracy: 0.9813 - val_loss: 0.1690 - val_accuracy: 0.9642\n",
      "Epoch 22/50\n",
      "438/438 [==============================] - 1s 2ms/step - loss: 0.0597 - accuracy: 0.9830 - val_loss: 0.1935 - val_accuracy: 0.9565\n",
      "Epoch 23/50\n",
      "438/438 [==============================] - 1s 2ms/step - loss: 0.0539 - accuracy: 0.9850 - val_loss: 0.1771 - val_accuracy: 0.9642\n",
      "Epoch 24/50\n",
      "438/438 [==============================] - 1s 2ms/step - loss: 0.0493 - accuracy: 0.9860 - val_loss: 0.1844 - val_accuracy: 0.9612\n",
      "Epoch 25/50\n",
      "438/438 [==============================] - 2s 4ms/step - loss: 0.0588 - accuracy: 0.9834 - val_loss: 0.1853 - val_accuracy: 0.9630\n",
      "Epoch 26/50\n",
      "438/438 [==============================] - 1s 3ms/step - loss: 0.0512 - accuracy: 0.9857 - val_loss: 0.1807 - val_accuracy: 0.9665\n",
      "Epoch 27/50\n",
      "438/438 [==============================] - 1s 3ms/step - loss: 0.0440 - accuracy: 0.9881 - val_loss: 0.1863 - val_accuracy: 0.9645\n",
      "Epoch 28/50\n",
      "438/438 [==============================] - 2s 3ms/step - loss: 0.0500 - accuracy: 0.9871 - val_loss: 0.2090 - val_accuracy: 0.9610\n",
      "Epoch 29/50\n",
      "438/438 [==============================] - 1s 3ms/step - loss: 0.0455 - accuracy: 0.9873 - val_loss: 0.1828 - val_accuracy: 0.9628\n",
      "Epoch 30/50\n",
      "438/438 [==============================] - 1s 3ms/step - loss: 0.0457 - accuracy: 0.9862 - val_loss: 0.1869 - val_accuracy: 0.9648\n",
      "Epoch 31/50\n",
      "438/438 [==============================] - 1s 3ms/step - loss: 0.0455 - accuracy: 0.9877 - val_loss: 0.1705 - val_accuracy: 0.9662\n",
      "Epoch 32/50\n",
      "438/438 [==============================] - 1s 3ms/step - loss: 0.0401 - accuracy: 0.9889 - val_loss: 0.1959 - val_accuracy: 0.9610\n",
      "Epoch 33/50\n",
      "438/438 [==============================] - 1s 3ms/step - loss: 0.0479 - accuracy: 0.9853 - val_loss: 0.1779 - val_accuracy: 0.9623\n",
      "Epoch 34/50\n",
      "438/438 [==============================] - 1s 3ms/step - loss: 0.0455 - accuracy: 0.9874 - val_loss: 0.1933 - val_accuracy: 0.9615\n",
      "Epoch 35/50\n",
      "438/438 [==============================] - 1s 3ms/step - loss: 0.0393 - accuracy: 0.9880 - val_loss: 0.1982 - val_accuracy: 0.9628\n",
      "Epoch 36/50\n",
      "438/438 [==============================] - 1s 3ms/step - loss: 0.0379 - accuracy: 0.9894 - val_loss: 0.1869 - val_accuracy: 0.9642\n",
      "Epoch 37/50\n",
      "438/438 [==============================] - 1s 3ms/step - loss: 0.0381 - accuracy: 0.9890 - val_loss: 0.1806 - val_accuracy: 0.9650\n",
      "Epoch 38/50\n",
      "438/438 [==============================] - 1s 2ms/step - loss: 0.0490 - accuracy: 0.9859 - val_loss: 0.2077 - val_accuracy: 0.9630\n",
      "Epoch 39/50\n",
      "438/438 [==============================] - 1s 3ms/step - loss: 0.0379 - accuracy: 0.9888 - val_loss: 0.2010 - val_accuracy: 0.9618\n",
      "Epoch 40/50\n",
      "438/438 [==============================] - 1s 3ms/step - loss: 0.0448 - accuracy: 0.9879 - val_loss: 0.1974 - val_accuracy: 0.9628\n",
      "Epoch 41/50\n",
      "438/438 [==============================] - 1s 3ms/step - loss: 0.0328 - accuracy: 0.9901 - val_loss: 0.2240 - val_accuracy: 0.9632\n",
      "Epoch 42/50\n",
      "438/438 [==============================] - 1s 3ms/step - loss: 0.0362 - accuracy: 0.9896 - val_loss: 0.2082 - val_accuracy: 0.9630\n",
      "Epoch 43/50\n",
      "438/438 [==============================] - 1s 3ms/step - loss: 0.0337 - accuracy: 0.9905 - val_loss: 0.2218 - val_accuracy: 0.9633\n",
      "Epoch 44/50\n",
      "438/438 [==============================] - 1s 3ms/step - loss: 0.0336 - accuracy: 0.9905 - val_loss: 0.2107 - val_accuracy: 0.9640\n",
      "Epoch 45/50\n",
      "438/438 [==============================] - 1s 3ms/step - loss: 0.0356 - accuracy: 0.9901 - val_loss: 0.2065 - val_accuracy: 0.9620\n",
      "Epoch 46/50\n",
      "438/438 [==============================] - 1s 3ms/step - loss: 0.0298 - accuracy: 0.9911 - val_loss: 0.2205 - val_accuracy: 0.9657\n",
      "Epoch 47/50\n",
      "438/438 [==============================] - 1s 3ms/step - loss: 0.0334 - accuracy: 0.9908 - val_loss: 0.2214 - val_accuracy: 0.9643\n",
      "Epoch 48/50\n",
      "438/438 [==============================] - 1s 3ms/step - loss: 0.0366 - accuracy: 0.9899 - val_loss: 0.2030 - val_accuracy: 0.9640\n",
      "Epoch 49/50\n",
      "438/438 [==============================] - 1s 3ms/step - loss: 0.0344 - accuracy: 0.9909 - val_loss: 0.2068 - val_accuracy: 0.9640\n",
      "Epoch 50/50\n",
      "438/438 [==============================] - 1s 2ms/step - loss: 0.0327 - accuracy: 0.9906 - val_loss: 0.1832 - val_accuracy: 0.9678\n"
     ]
    }
   ],
   "source": [
    "model_mnist = tf.keras.Sequential()\n",
    "\n",
    "model_mnist.add(tf.keras.Input(shape = (28,28)))\n",
    "model_mnist.add(tf.keras.layers.Flatten())\n",
    "\n",
    "model_mnist.add(tf.keras.layers.Dense(units = 128, activation ='relu'))\n",
    "model_mnist.add(tf.keras.layers.Dropout(0.2))\n",
    "\n",
    "model_mnist.add(tf.keras.layers.Dense(units = 64,  activation ='relu'))\n",
    "model_mnist.add(tf.keras.layers.Dropout(0.2))\n",
    "\n",
    "model_mnist.add(tf.keras.layers.Dense(units = 32,  activation ='relu'))\n",
    "model_mnist.add(tf.keras.layers.Dropout(0.2))\n",
    "\n",
    "model_mnist.add(tf.keras.layers.Dense(units = 16,  activation ='relu'))\n",
    "model_mnist.add(tf.keras.layers.Dense(units = 10,  activation ='softmax'))\n",
    "\n",
    "\n",
    "model_mnist.compile(\n",
    "                    loss = tf.keras.losses.SparseCategoricalCrossentropy(),\n",
    "                    optimizer = tf.keras.optimizers.Adam(),\n",
    "                    metrics = ['accuracy']\n",
    ")\n",
    "\n",
    "history = model_mnist.fit(x_train,y_train, epochs =50, validation_split=0.3, verbose=1)"
   ]
  },
  {
   "cell_type": "code",
   "execution_count": 10,
   "metadata": {},
   "outputs": [
    {
     "data": {
      "image/png": "[encoded data removed]",
      "text/plain": [
       "<Figure size 432x288 with 1 Axes>"
      ]
     },
     "metadata": {
      "needs_background": "light"
     },
     "output_type": "display_data"
    }
   ],
   "source": [
    "plt.plot(history.history['loss'], label='loss')\n",
    "plt.plot(history.history['val_loss'], label='val_loss')\n",
    "plt.xlabel('Epoch')\n",
    "plt.ylabel('Error')\n",
    "plt.legend()\n",
    "plt.show() "
   ]
  },
  {
   "cell_type": "code",
   "execution_count": 11,
   "metadata": {},
   "outputs": [
    {
     "name": "stdout",
     "output_type": "stream",
     "text": [
      "loss: 0.2581093907356262, acc: 0.9567999839782715\n"
     ]
    }
   ],
   "source": [
    "loss, accuracy = model_mnist.evaluate(x_test,y_test,verbose=0)\n",
    "print(f'loss: {loss}, acc: {accuracy}')"
   ]
  },
  {
   "cell_type": "code",
   "execution_count": 12,
   "metadata": {},
   "outputs": [
    {
     "name": "stdout",
     "output_type": "stream",
     "text": [
      "157/157 [==============================] - 0s 999us/step\n"
     ]
    }
   ],
   "source": [
    "y_pred = model_mnist.predict(x_test)"
   ]
  },
  {
   "cell_type": "code",
   "execution_count": 13,
   "metadata": {},
   "outputs": [
    {
     "data": {
      "image/png": "[encoded data removed]",
      "text/plain": [
       "<Figure size 1080x288 with 10 Axes>"
      ]
     },
     "metadata": {
      "needs_background": "light"
     },
     "output_type": "display_data"
    }
   ],
   "source": [
    "plt.figure(figsize=(15,4))\n",
    "for i in range(10):\n",
    "    plt.subplot(2,5,i+1)\n",
    "    plt.imshow(x_test[i])\n",
    "    plt.xticks([])\n",
    "    plt.xlabel(np.argmax(y_pred[i]))"
   ]
  },
  {
   "cell_type": "code",
   "execution_count": null,
   "metadata": {},
   "outputs": [],
   "source": []
  }
 ],
 "metadata": {
  "kernelspec": {
   "display_name": "Python 3.10.5 64-bit",
   "language": "python",
   "name": "python3"
  },
  "language_info": {
   "codemirror_mode": {
    "name": "ipython",
    "version": 3
   },
   "file_extension": ".py",
   "mimetype": "text/x-python",
   "name": "python",
   "nbconvert_exporter": "python",
   "pygments_lexer": "ipython3",
   "version": "3.10.5"
  },
  "orig_nbformat": 4,
  "vscode": {
   "interpreter": {
    "hash": "1e6777404cc7eb28e5b808e7807006eb549a6339bdaf82fda99a64f1f5a83e79"
   }
  }
 },
 "nbformat": 4,
 "nbformat_minor": 2
}
