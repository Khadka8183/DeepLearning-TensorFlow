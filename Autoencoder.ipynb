{
 "cells": [
  {
   "cell_type": "code",
   "execution_count": 9,
   "metadata": {},
   "outputs": [],
   "source": [
    "import tensorflow as tf \n",
    "import numpy as np \n",
    "import matplotlib.pyplot as plt \n",
    "import cv2 as cv \n",
    "\n",
    "\n",
    "(x_train, y_train),(x_test,y_test) = tf.keras.datasets.mnist.load_data()\n",
    "\n",
    "x_train = x_train /255.0\n",
    "x_test  = x_test /255.0"
   ]
  },
  {
   "cell_type": "code",
   "execution_count": 11,
   "metadata": {},
   "outputs": [
    {
     "name": "stdout",
     "output_type": "stream",
     "text": [
      "Model: \"model_4\"\n",
      "_________________________________________________________________\n",
      " Layer (type)                Output Shape              Param #   \n",
      "=================================================================\n",
      " input_4 (InputLayer)        [(None, 28, 28, 1)]       0         \n",
      "                                                                 \n",
      " conv2d_6 (Conv2D)           (None, 28, 28, 32)        320       \n",
      "                                                                 \n",
      " batch_normalization_7 (Batc  (None, 28, 28, 32)       128       \n",
      " hNormalization)                                                 \n",
      "                                                                 \n",
      " max_pooling2d_6 (MaxPooling  (None, 14, 14, 32)       0         \n",
      " 2D)                                                             \n",
      "                                                                 \n",
      " dropout_7 (Dropout)         (None, 14, 14, 32)        0         \n",
      "                                                                 \n",
      " conv2d_7 (Conv2D)           (None, 14, 14, 64)        18496     \n",
      "                                                                 \n",
      " batch_normalization_8 (Batc  (None, 14, 14, 64)       256       \n",
      " hNormalization)                                                 \n",
      "                                                                 \n",
      " max_pooling2d_7 (MaxPooling  (None, 7, 7, 64)         0         \n",
      " 2D)                                                             \n",
      "                                                                 \n",
      " dropout_8 (Dropout)         (None, 7, 7, 64)          0         \n",
      "                                                                 \n",
      " flatten_3 (Flatten)         (None, 3136)              0         \n",
      "                                                                 \n",
      " Bottelneck (Dense)          (None, 128)               401536    \n",
      "                                                                 \n",
      "=================================================================\n",
      "Total params: 420,736\n",
      "Trainable params: 420,544\n",
      "Non-trainable params: 192\n",
      "_________________________________________________________________\n"
     ]
    }
   ],
   "source": [
    "## Encoder\n",
    "# -----------------------------------------------------------------------------------------------------------------------#\n",
    "\n",
    "encoder_input = tf.keras.Input(shape =(28,28,1))\n",
    "\n",
    "x = tf.keras.layers.Conv2D(32,(3,3),padding ='SAME', activation = tf.keras.layers.LeakyReLU(alpha=0.3))(encoder_input)\n",
    "x = tf.keras.layers.BatchNormalization()(x)\n",
    "x = tf.keras.layers.MaxPooling2D((2,2))(x)\n",
    "x = tf.keras.layers.Dropout(0.2)(x)\n",
    "\n",
    "\n",
    "\n",
    "x = tf.keras.layers.Conv2D(64,(3,3),padding ='SAME', activation = tf.keras.layers.LeakyReLU(alpha=0.3) )(x)\n",
    "x = tf.keras.layers.BatchNormalization()(x)\n",
    "x = tf.keras.layers.MaxPooling2D((2,2))(x)\n",
    "x = tf.keras.layers.Dropout(0.2)(x)\n",
    "\n",
    "\n",
    "x = tf.keras.layers.Flatten()(x)\n",
    "\n",
    "encoder_output = tf.keras.layers.Dense(128, activation = tf.keras.layers.LeakyReLU(alpha=0.3), name = 'Bottelneck')(x)   \n",
    "\n",
    "model = tf.keras.Model(inputs = encoder_input, outputs = encoder_output)\n",
    "model.summary()\n",
    "\n",
    "# -----------------------------------------------------------------------------------------------------------------------#\n",
    "\n"
   ]
  },
  {
   "cell_type": "code",
   "execution_count": 16,
   "metadata": {},
   "outputs": [
    {
     "name": "stdout",
     "output_type": "stream",
     "text": [
      "Model: \"model_9\"\n",
      "_________________________________________________________________\n",
      " Layer (type)                Output Shape              Param #   \n",
      "=================================================================\n",
      " input_4 (InputLayer)        [(None, 28, 28, 1)]       0         \n",
      "                                                                 \n",
      " conv2d_6 (Conv2D)           (None, 28, 28, 32)        320       \n",
      "                                                                 \n",
      " batch_normalization_7 (Batc  (None, 28, 28, 32)       128       \n",
      " hNormalization)                                                 \n",
      "                                                                 \n",
      " max_pooling2d_6 (MaxPooling  (None, 14, 14, 32)       0         \n",
      " 2D)                                                             \n",
      "                                                                 \n",
      " dropout_7 (Dropout)         (None, 14, 14, 32)        0         \n",
      "                                                                 \n",
      " conv2d_7 (Conv2D)           (None, 14, 14, 64)        18496     \n",
      "                                                                 \n",
      " batch_normalization_8 (Batc  (None, 14, 14, 64)       256       \n",
      " hNormalization)                                                 \n",
      "                                                                 \n",
      " max_pooling2d_7 (MaxPooling  (None, 7, 7, 64)         0         \n",
      " 2D)                                                             \n",
      "                                                                 \n",
      " dropout_8 (Dropout)         (None, 7, 7, 64)          0         \n",
      "                                                                 \n",
      " flatten_3 (Flatten)         (None, 3136)              0         \n",
      "                                                                 \n",
      " Bottelneck (Dense)          (None, 128)               401536    \n",
      "                                                                 \n",
      " dense_5 (Dense)             (None, 3136)              404544    \n",
      "                                                                 \n",
      " reshape_5 (Reshape)         (None, 7, 7, 64)          0         \n",
      "                                                                 \n",
      " conv2d_transpose_12 (Conv2D  (None, 7, 7, 64)         36928     \n",
      " Transpose)                                                      \n",
      "                                                                 \n",
      " batch_normalization_13 (Bat  (None, 7, 7, 64)         256       \n",
      " chNormalization)                                                \n",
      "                                                                 \n",
      " up_sampling2d_13 (UpSamplin  (None, 14, 14, 64)       0         \n",
      " g2D)                                                            \n",
      "                                                                 \n",
      " dropout_13 (Dropout)        (None, 14, 14, 64)        0         \n",
      "                                                                 \n",
      " conv2d_transpose_13 (Conv2D  (None, 14, 14, 1)        65        \n",
      " Transpose)                                                      \n",
      "                                                                 \n",
      " up_sampling2d_14 (UpSamplin  (None, 28, 28, 1)        0         \n",
      " g2D)                                                            \n",
      "                                                                 \n",
      "=================================================================\n",
      "Total params: 862,529\n",
      "Trainable params: 862,209\n",
      "Non-trainable params: 320\n",
      "_________________________________________________________________\n"
     ]
    }
   ],
   "source": [
    "## Decoder\n",
    "# -----------------------------------------------------------------------------------------------------------------------#\n",
    "decoder_input = tf.keras.layers.Dense(3136, activation = tf.keras.layers.LeakyReLU(alpha=0.3))(encoder_output)\n",
    "x = tf.keras.layers.Reshape((7,7,64))(decoder_input)\n",
    "\n",
    "x = tf.keras.layers.Conv2DTranspose(64,(3,3), padding ='SAME', activation = tf.keras.layers.LeakyReLU(alpha=0.3))(x)\n",
    "x = tf.keras.layers.BatchNormalization()(x)\n",
    "x = tf.keras.layers.UpSampling2D((2,2))(x)\n",
    "x = tf.keras.layers.Dropout(0.2)(x)\n",
    "\n",
    "\n",
    "x = tf.keras.layers.Conv2DTranspose(1, (1,1), padding ='SAME', activation='sigmoid')(x)\n",
    "decoder_output = tf.keras.layers.UpSampling2D((2,2))(x)\n",
    "\n",
    "# -----------------------------------------------------------------------------------------------------------------------#\n",
    "\n",
    "\n",
    "model = tf.keras.Model(inputs = encoder_input, outputs = decoder_output)\n",
    "model.summary()"
   ]
  },
  {
   "cell_type": "code",
   "execution_count": 4,
   "metadata": {},
   "outputs": [],
   "source": [
    "model.compile( \n",
    "    loss = tf.keras.losses.MeanSquaredError(), \n",
    "    optimizer = tf.keras.optimizers.Adam(),\n",
    "    metrics = ['accuracy']\n",
    ")"
   ]
  },
  {
   "cell_type": "code",
   "execution_count": 5,
   "metadata": {},
   "outputs": [
    {
     "name": "stdout",
     "output_type": "stream",
     "text": [
      "Epoch 1/2\n",
      "235/235 [==============================] - 78s 325ms/step - loss: 0.0803 - accuracy: 0.7684 - val_loss: 0.0952 - val_accuracy: 0.8049\n",
      "Epoch 2/2\n",
      "235/235 [==============================] - 78s 331ms/step - loss: 0.0513 - accuracy: 0.7917 - val_loss: 0.0627 - val_accuracy: 0.8009\n"
     ]
    },
    {
     "data": {
      "text/plain": [
       "<keras.callbacks.History at 0x1aa5ee8e860>"
      ]
     },
     "execution_count": 5,
     "metadata": {},
     "output_type": "execute_result"
    }
   ],
   "source": [
    "callback = tf.keras.callbacks.EarlyStopping(monitor='loss', patience=3)\n",
    "\n",
    "model.fit(\n",
    "    x_train,\n",
    "    x_train,\n",
    "    epochs=2,\n",
    "    batch_size=256,\n",
    "    shuffle=False,\n",
    "    validation_data=(x_test, x_test),\n",
    "    callbacks = [callback]\n",
    ")"
   ]
  },
  {
   "cell_type": "code",
   "execution_count": 6,
   "metadata": {},
   "outputs": [
    {
     "name": "stdout",
     "output_type": "stream",
     "text": [
      "313/313 [==============================] - 5s 15ms/step\n"
     ]
    }
   ],
   "source": [
    "y_pred = model.predict(x_test)\n"
   ]
  },
  {
   "cell_type": "code",
   "execution_count": 7,
   "metadata": {},
   "outputs": [
    {
     "data": {
      "image/png": "[encoded data removed]",
      "text/plain": [
       "<Figure size 1440x288 with 10 Axes>"
      ]
     },
     "metadata": {
      "needs_background": "light"
     },
     "output_type": "display_data"
    }
   ],
   "source": [
    "fig, axes = plt.subplots(2,5, figsize=(20, 4))\n",
    "fig.subplots_adjust(hspace=0.4, wspace=-0.2)\n",
    "for i in range(5):\n",
    "  axes[0,i].imshow(x_test[i])\n",
    "  axes[0,i].get_xaxis().set_visible(False)\n",
    "  axes[0,i].get_yaxis().set_visible(False)\n",
    "  axes[0,i].set_title(f'Orginal:{y_test[i]}')\n",
    "\n",
    "\n",
    "  axes[1,i].imshow(y_pred[i].reshape(28,28))\n",
    "  axes[1,i].get_xaxis().set_visible(False)\n",
    "  axes[1,i].get_yaxis().set_visible(False)\n",
    "  axes[1,i].set_title(f'Pred:{y_test[i]}')"
   ]
  },
  {
   "cell_type": "code",
   "execution_count": null,
   "metadata": {},
   "outputs": [],
   "source": []
  }
 ],
 "metadata": {
  "kernelspec": {
   "display_name": "Python 3.10.5 64-bit",
   "language": "python",
   "name": "python3"
  },
  "language_info": {
   "codemirror_mode": {
    "name": "ipython",
    "version": 3
   },
   "file_extension": ".py",
   "mimetype": "text/x-python",
   "name": "python",
   "nbconvert_exporter": "python",
   "pygments_lexer": "ipython3",
   "version": "3.10.5"
  },
  "orig_nbformat": 4,
  "vscode": {
   "interpreter": {
    "hash": "1e6777404cc7eb28e5b808e7807006eb549a6339bdaf82fda99a64f1f5a83e79"
   }
  }
 },
 "nbformat": 4,
 "nbformat_minor": 2
}
